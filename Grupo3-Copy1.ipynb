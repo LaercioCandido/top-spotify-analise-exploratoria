{
 "cells": [
  {
   "cell_type": "markdown",
   "id": "e3a51c26",
   "metadata": {},
   "source": [
    "# Trabalho - Grupo 3 (Catia, Eduardo, Jadhy, Laercio, Poliana)\n",
    "\n",
    "## Top songs spotify - 2010 a 2019\n",
    "\n",
    "### Perguntas:\n",
    "\n",
    "#### 1- Qual o gênero e o artista mais tocado?\n",
    "\n",
    "--> Sub análise por ano\n",
    "\n",
    "#### 2- Qual a preferência das pessoas: música cantada ou instrumental? música acustica ou eletrônica?\n",
    "\n",
    "#### 3- Qual a faixa de bpm mais escutada? \n",
    "\n",
    "--> Por faixa\n",
    "\n",
    "--> Média e desvio padrão (quanto varia essa preferência)\n",
    "\n",
    "#### 4- Quantas músicas são de sofrência e quantas são mais felizes?\n",
    "\n",
    "#### 5- Qual a relação entre a energia da música, os dB e o bpm?\n",
    "\n",
    "#### 6- Qual a relação entre a dançabilidade da música e a popularidade? \n",
    "\n",
    "#### 7- Qual a relação entre o ano que esteve no top e o lançamento\n",
    "\n",
    "#### 8- Qual o máximo de anos que uma música permaneceu no top?\n",
    "\n",
    "#### 9- Qual o tipo de artista mais tocado?\n",
    "\n",
    "Link: https://www.kaggle.com/datasets/muhmores/spotify-top-100-songs-of-20152019\n",
    "\n",
    "Dic de dados: http://organizeyourmusic.playlistmachinery.com/"
   ]
  },
  {
   "cell_type": "markdown",
   "id": "133d7a33",
   "metadata": {},
   "source": []
  },
  {
   "cell_type": "code",
   "execution_count": 1,
   "id": "d427cfe6",
   "metadata": {},
   "outputs": [],
   "source": [
    "import pandas as pd\n",
    "import numpy as np\n",
    "import os\n",
    "\n",
    "%matplotlib inline\n",
    "import matplotlib.pyplot as plt\n",
    "import seaborn as sns\n",
    "\n",
    "from collections import Counter, OrderedDict\n",
    "import warnings\n",
    "warnings.filterwarnings('ignore')"
   ]
  },
  {
   "cell_type": "code",
   "execution_count": 2,
   "id": "89b3cd8b",
   "metadata": {},
   "outputs": [
    {
     "data": {
      "text/plain": [
       "['Classification (DEAD).ipynb',\n",
       " 'Spotify 2010 - 2019 Top 100.csv',\n",
       " '.git',\n",
       " 'upvote.png',\n",
       " 'Spotify 2010 - 2019 Top 100 Songs.xlsx',\n",
       " 'top10s.csv',\n",
       " 'Grupo3-Copy1.ipynb',\n",
       " 'Grupo3.ipynb',\n",
       " 'README.md',\n",
       " '.ipynb_checkpoints']"
      ]
     },
     "execution_count": 2,
     "metadata": {},
     "output_type": "execute_result"
    }
   ],
   "source": [
    "#Ler documentos na pasta para verificar o nome do arquivo\n",
    "os.listdir()"
   ]
  },
  {
   "cell_type": "code",
   "execution_count": 3,
   "id": "ed51991c",
   "metadata": {},
   "outputs": [
    {
     "data": {
      "text/html": [
       "<div>\n",
       "<style scoped>\n",
       "    .dataframe tbody tr th:only-of-type {\n",
       "        vertical-align: middle;\n",
       "    }\n",
       "\n",
       "    .dataframe tbody tr th {\n",
       "        vertical-align: top;\n",
       "    }\n",
       "\n",
       "    .dataframe thead th {\n",
       "        text-align: right;\n",
       "    }\n",
       "</style>\n",
       "<table border=\"1\" class=\"dataframe\">\n",
       "  <thead>\n",
       "    <tr style=\"text-align: right;\">\n",
       "      <th></th>\n",
       "      <th>title</th>\n",
       "      <th>artist</th>\n",
       "      <th>top genre</th>\n",
       "      <th>year released</th>\n",
       "      <th>added</th>\n",
       "      <th>bpm</th>\n",
       "      <th>nrgy</th>\n",
       "      <th>dnce</th>\n",
       "      <th>dB</th>\n",
       "      <th>live</th>\n",
       "      <th>val</th>\n",
       "      <th>dur</th>\n",
       "      <th>acous</th>\n",
       "      <th>spch</th>\n",
       "      <th>pop</th>\n",
       "      <th>top year</th>\n",
       "      <th>artist type</th>\n",
       "    </tr>\n",
       "  </thead>\n",
       "  <tbody>\n",
       "    <tr>\n",
       "      <th>0</th>\n",
       "      <td>STARSTRUKK (feat. Katy Perry)</td>\n",
       "      <td>3OH!3</td>\n",
       "      <td>dance pop</td>\n",
       "      <td>2009.0</td>\n",
       "      <td>2022‑02‑17</td>\n",
       "      <td>140.0</td>\n",
       "      <td>81.0</td>\n",
       "      <td>61.0</td>\n",
       "      <td>-6.0</td>\n",
       "      <td>23.0</td>\n",
       "      <td>23.0</td>\n",
       "      <td>203.0</td>\n",
       "      <td>0.0</td>\n",
       "      <td>6.0</td>\n",
       "      <td>70.0</td>\n",
       "      <td>2010.0</td>\n",
       "      <td>Duo</td>\n",
       "    </tr>\n",
       "    <tr>\n",
       "      <th>1</th>\n",
       "      <td>My First Kiss (feat. Ke$ha)</td>\n",
       "      <td>3OH!3</td>\n",
       "      <td>dance pop</td>\n",
       "      <td>2010.0</td>\n",
       "      <td>2022‑02‑17</td>\n",
       "      <td>138.0</td>\n",
       "      <td>89.0</td>\n",
       "      <td>68.0</td>\n",
       "      <td>-4.0</td>\n",
       "      <td>36.0</td>\n",
       "      <td>83.0</td>\n",
       "      <td>192.0</td>\n",
       "      <td>1.0</td>\n",
       "      <td>8.0</td>\n",
       "      <td>68.0</td>\n",
       "      <td>2010.0</td>\n",
       "      <td>Duo</td>\n",
       "    </tr>\n",
       "    <tr>\n",
       "      <th>2</th>\n",
       "      <td>I Need A Dollar</td>\n",
       "      <td>Aloe Blacc</td>\n",
       "      <td>pop soul</td>\n",
       "      <td>2010.0</td>\n",
       "      <td>2022‑02‑17</td>\n",
       "      <td>95.0</td>\n",
       "      <td>48.0</td>\n",
       "      <td>84.0</td>\n",
       "      <td>-7.0</td>\n",
       "      <td>9.0</td>\n",
       "      <td>96.0</td>\n",
       "      <td>243.0</td>\n",
       "      <td>20.0</td>\n",
       "      <td>3.0</td>\n",
       "      <td>72.0</td>\n",
       "      <td>2010.0</td>\n",
       "      <td>Solo</td>\n",
       "    </tr>\n",
       "    <tr>\n",
       "      <th>3</th>\n",
       "      <td>Airplanes (feat. Hayley Williams of Paramore)</td>\n",
       "      <td>B.o.B</td>\n",
       "      <td>atl hip hop</td>\n",
       "      <td>2010.0</td>\n",
       "      <td>2022‑02‑17</td>\n",
       "      <td>93.0</td>\n",
       "      <td>87.0</td>\n",
       "      <td>66.0</td>\n",
       "      <td>-4.0</td>\n",
       "      <td>4.0</td>\n",
       "      <td>38.0</td>\n",
       "      <td>180.0</td>\n",
       "      <td>11.0</td>\n",
       "      <td>12.0</td>\n",
       "      <td>80.0</td>\n",
       "      <td>2010.0</td>\n",
       "      <td>Solo</td>\n",
       "    </tr>\n",
       "    <tr>\n",
       "      <th>4</th>\n",
       "      <td>Nothin' on You (feat. Bruno Mars)</td>\n",
       "      <td>B.o.B</td>\n",
       "      <td>atl hip hop</td>\n",
       "      <td>2010.0</td>\n",
       "      <td>2022‑02‑17</td>\n",
       "      <td>104.0</td>\n",
       "      <td>85.0</td>\n",
       "      <td>69.0</td>\n",
       "      <td>-6.0</td>\n",
       "      <td>9.0</td>\n",
       "      <td>74.0</td>\n",
       "      <td>268.0</td>\n",
       "      <td>39.0</td>\n",
       "      <td>5.0</td>\n",
       "      <td>79.0</td>\n",
       "      <td>2010.0</td>\n",
       "      <td>Solo</td>\n",
       "    </tr>\n",
       "  </tbody>\n",
       "</table>\n",
       "</div>"
      ],
      "text/plain": [
       "                                           title      artist    top genre  \\\n",
       "0                  STARSTRUKK (feat. Katy Perry)       3OH!3    dance pop   \n",
       "1                    My First Kiss (feat. Ke$ha)       3OH!3    dance pop   \n",
       "2                                I Need A Dollar  Aloe Blacc     pop soul   \n",
       "3  Airplanes (feat. Hayley Williams of Paramore)       B.o.B  atl hip hop   \n",
       "4              Nothin' on You (feat. Bruno Mars)       B.o.B  atl hip hop   \n",
       "\n",
       "   year released       added    bpm  nrgy  dnce   dB  live   val    dur  \\\n",
       "0         2009.0  2022‑02‑17  140.0  81.0  61.0 -6.0  23.0  23.0  203.0   \n",
       "1         2010.0  2022‑02‑17  138.0  89.0  68.0 -4.0  36.0  83.0  192.0   \n",
       "2         2010.0  2022‑02‑17   95.0  48.0  84.0 -7.0   9.0  96.0  243.0   \n",
       "3         2010.0  2022‑02‑17   93.0  87.0  66.0 -4.0   4.0  38.0  180.0   \n",
       "4         2010.0  2022‑02‑17  104.0  85.0  69.0 -6.0   9.0  74.0  268.0   \n",
       "\n",
       "   acous  spch   pop  top year artist type  \n",
       "0    0.0   6.0  70.0    2010.0         Duo  \n",
       "1    1.0   8.0  68.0    2010.0         Duo  \n",
       "2   20.0   3.0  72.0    2010.0        Solo  \n",
       "3   11.0  12.0  80.0    2010.0        Solo  \n",
       "4   39.0   5.0  79.0    2010.0        Solo  "
      ]
     },
     "execution_count": 3,
     "metadata": {},
     "output_type": "execute_result"
    }
   ],
   "source": [
    "#Abrindo o arquivo e verificando a cabeça\n",
    "arquivo = 'Spotify 2010 - 2019 Top 100.csv'\n",
    "df = pd.read_csv(arquivo)\n",
    "df.head()"
   ]
  },
  {
   "cell_type": "code",
   "execution_count": 4,
   "id": "20abb3ab",
   "metadata": {},
   "outputs": [
    {
     "name": "stdout",
     "output_type": "stream",
     "text": [
      "<class 'pandas.core.frame.DataFrame'>\n",
      "RangeIndex: 1003 entries, 0 to 1002\n",
      "Data columns (total 17 columns):\n",
      " #   Column         Non-Null Count  Dtype  \n",
      "---  ------         --------------  -----  \n",
      " 0   title          1000 non-null   object \n",
      " 1   artist         1000 non-null   object \n",
      " 2   top genre      1000 non-null   object \n",
      " 3   year released  1000 non-null   float64\n",
      " 4   added          1000 non-null   object \n",
      " 5   bpm            1000 non-null   float64\n",
      " 6   nrgy           1000 non-null   float64\n",
      " 7   dnce           1000 non-null   float64\n",
      " 8   dB             1000 non-null   float64\n",
      " 9   live           1000 non-null   float64\n",
      " 10  val            1000 non-null   float64\n",
      " 11  dur            1000 non-null   float64\n",
      " 12  acous          1000 non-null   float64\n",
      " 13  spch           1000 non-null   float64\n",
      " 14  pop            1000 non-null   float64\n",
      " 15  top year       1000 non-null   float64\n",
      " 16  artist type    1000 non-null   object \n",
      "dtypes: float64(12), object(5)\n",
      "memory usage: 133.3+ KB\n"
     ]
    }
   ],
   "source": [
    "df.info()"
   ]
  },
  {
   "cell_type": "markdown",
   "id": "b66fdc69",
   "metadata": {},
   "source": [
    "5 variáveis categóricas: Título, artista, gênero, added (dia que a música foi pro top), tipo de artista\n",
    "\n",
    "O resto das variáveis são numéricas"
   ]
  },
  {
   "cell_type": "code",
   "execution_count": 5,
   "id": "9d836b7e",
   "metadata": {},
   "outputs": [
    {
     "data": {
      "text/html": [
       "<div>\n",
       "<style scoped>\n",
       "    .dataframe tbody tr th:only-of-type {\n",
       "        vertical-align: middle;\n",
       "    }\n",
       "\n",
       "    .dataframe tbody tr th {\n",
       "        vertical-align: top;\n",
       "    }\n",
       "\n",
       "    .dataframe thead th {\n",
       "        text-align: right;\n",
       "    }\n",
       "</style>\n",
       "<table border=\"1\" class=\"dataframe\">\n",
       "  <thead>\n",
       "    <tr style=\"text-align: right;\">\n",
       "      <th></th>\n",
       "      <th>title</th>\n",
       "      <th>artist</th>\n",
       "      <th>top genre</th>\n",
       "      <th>year released</th>\n",
       "      <th>added</th>\n",
       "      <th>bpm</th>\n",
       "      <th>nrgy</th>\n",
       "      <th>dnce</th>\n",
       "      <th>dB</th>\n",
       "      <th>live</th>\n",
       "      <th>val</th>\n",
       "      <th>dur</th>\n",
       "      <th>acous</th>\n",
       "      <th>spch</th>\n",
       "      <th>pop</th>\n",
       "      <th>top year</th>\n",
       "      <th>artist type</th>\n",
       "    </tr>\n",
       "  </thead>\n",
       "  <tbody>\n",
       "    <tr>\n",
       "      <th>1000</th>\n",
       "      <td>NaN</td>\n",
       "      <td>NaN</td>\n",
       "      <td>NaN</td>\n",
       "      <td>NaN</td>\n",
       "      <td>NaN</td>\n",
       "      <td>NaN</td>\n",
       "      <td>NaN</td>\n",
       "      <td>NaN</td>\n",
       "      <td>NaN</td>\n",
       "      <td>NaN</td>\n",
       "      <td>NaN</td>\n",
       "      <td>NaN</td>\n",
       "      <td>NaN</td>\n",
       "      <td>NaN</td>\n",
       "      <td>NaN</td>\n",
       "      <td>NaN</td>\n",
       "      <td>NaN</td>\n",
       "    </tr>\n",
       "    <tr>\n",
       "      <th>1001</th>\n",
       "      <td>NaN</td>\n",
       "      <td>NaN</td>\n",
       "      <td>NaN</td>\n",
       "      <td>NaN</td>\n",
       "      <td>NaN</td>\n",
       "      <td>NaN</td>\n",
       "      <td>NaN</td>\n",
       "      <td>NaN</td>\n",
       "      <td>NaN</td>\n",
       "      <td>NaN</td>\n",
       "      <td>NaN</td>\n",
       "      <td>NaN</td>\n",
       "      <td>NaN</td>\n",
       "      <td>NaN</td>\n",
       "      <td>NaN</td>\n",
       "      <td>NaN</td>\n",
       "      <td>NaN</td>\n",
       "    </tr>\n",
       "    <tr>\n",
       "      <th>1002</th>\n",
       "      <td>NaN</td>\n",
       "      <td>NaN</td>\n",
       "      <td>NaN</td>\n",
       "      <td>NaN</td>\n",
       "      <td>NaN</td>\n",
       "      <td>NaN</td>\n",
       "      <td>NaN</td>\n",
       "      <td>NaN</td>\n",
       "      <td>NaN</td>\n",
       "      <td>NaN</td>\n",
       "      <td>NaN</td>\n",
       "      <td>NaN</td>\n",
       "      <td>NaN</td>\n",
       "      <td>NaN</td>\n",
       "      <td>NaN</td>\n",
       "      <td>NaN</td>\n",
       "      <td>NaN</td>\n",
       "    </tr>\n",
       "  </tbody>\n",
       "</table>\n",
       "</div>"
      ],
      "text/plain": [
       "     title artist top genre  year released added  bpm  nrgy  dnce  dB  live  \\\n",
       "1000   NaN    NaN       NaN            NaN   NaN  NaN   NaN   NaN NaN   NaN   \n",
       "1001   NaN    NaN       NaN            NaN   NaN  NaN   NaN   NaN NaN   NaN   \n",
       "1002   NaN    NaN       NaN            NaN   NaN  NaN   NaN   NaN NaN   NaN   \n",
       "\n",
       "      val  dur  acous  spch  pop  top year artist type  \n",
       "1000  NaN  NaN    NaN   NaN  NaN       NaN         NaN  \n",
       "1001  NaN  NaN    NaN   NaN  NaN       NaN         NaN  \n",
       "1002  NaN  NaN    NaN   NaN  NaN       NaN         NaN  "
      ]
     },
     "metadata": {},
     "output_type": "display_data"
    },
    {
     "name": "stdout",
     "output_type": "stream",
     "text": [
      "<class 'pandas.core.frame.DataFrame'>\n",
      "Int64Index: 1000 entries, 0 to 999\n",
      "Data columns (total 17 columns):\n",
      " #   Column         Non-Null Count  Dtype  \n",
      "---  ------         --------------  -----  \n",
      " 0   title          1000 non-null   object \n",
      " 1   artist         1000 non-null   object \n",
      " 2   top genre      1000 non-null   object \n",
      " 3   year released  1000 non-null   float64\n",
      " 4   added          1000 non-null   object \n",
      " 5   bpm            1000 non-null   float64\n",
      " 6   nrgy           1000 non-null   float64\n",
      " 7   dnce           1000 non-null   float64\n",
      " 8   dB             1000 non-null   float64\n",
      " 9   live           1000 non-null   float64\n",
      " 10  val            1000 non-null   float64\n",
      " 11  dur            1000 non-null   float64\n",
      " 12  acous          1000 non-null   float64\n",
      " 13  spch           1000 non-null   float64\n",
      " 14  pop            1000 non-null   float64\n",
      " 15  top year       1000 non-null   float64\n",
      " 16  artist type    1000 non-null   object \n",
      "dtypes: float64(12), object(5)\n",
      "memory usage: 140.6+ KB\n"
     ]
    }
   ],
   "source": [
    "display(df[df.isna().any(axis=1)])\n",
    "df.dropna(inplace=True)\n",
    "df.info()"
   ]
  },
  {
   "cell_type": "markdown",
   "id": "09449700",
   "metadata": {},
   "source": [
    "Nota-se que possuia 3 linhas de cada coluna que apresentam valores nulos, como mostrado anteriormente, e foram removidas.\n",
    "\n",
    "Nota-se também que Top Year, Year Released e BPM, então sendo tratados como Float, porém essas variáveis no mundo real se enquadram como inteiros. Portanto, sua conversão é feita a seguir:"
   ]
  },
  {
   "cell_type": "code",
   "execution_count": 6,
   "id": "67e99709",
   "metadata": {},
   "outputs": [
    {
     "data": {
      "text/html": [
       "<div>\n",
       "<style scoped>\n",
       "    .dataframe tbody tr th:only-of-type {\n",
       "        vertical-align: middle;\n",
       "    }\n",
       "\n",
       "    .dataframe tbody tr th {\n",
       "        vertical-align: top;\n",
       "    }\n",
       "\n",
       "    .dataframe thead th {\n",
       "        text-align: right;\n",
       "    }\n",
       "</style>\n",
       "<table border=\"1\" class=\"dataframe\">\n",
       "  <thead>\n",
       "    <tr style=\"text-align: right;\">\n",
       "      <th></th>\n",
       "      <th>title</th>\n",
       "      <th>artist</th>\n",
       "      <th>top genre</th>\n",
       "      <th>year released</th>\n",
       "      <th>added</th>\n",
       "      <th>bpm</th>\n",
       "      <th>nrgy</th>\n",
       "      <th>dnce</th>\n",
       "      <th>dB</th>\n",
       "      <th>live</th>\n",
       "      <th>val</th>\n",
       "      <th>dur</th>\n",
       "      <th>acous</th>\n",
       "      <th>spch</th>\n",
       "      <th>pop</th>\n",
       "      <th>top year</th>\n",
       "      <th>artist type</th>\n",
       "    </tr>\n",
       "  </thead>\n",
       "  <tbody>\n",
       "    <tr>\n",
       "      <th>0</th>\n",
       "      <td>STARSTRUKK (feat. Katy Perry)</td>\n",
       "      <td>3OH!3</td>\n",
       "      <td>dance pop</td>\n",
       "      <td>2009</td>\n",
       "      <td>2022‑02‑17</td>\n",
       "      <td>140</td>\n",
       "      <td>81.0</td>\n",
       "      <td>61.0</td>\n",
       "      <td>-6.0</td>\n",
       "      <td>23.0</td>\n",
       "      <td>23.0</td>\n",
       "      <td>203.0</td>\n",
       "      <td>0.0</td>\n",
       "      <td>6.0</td>\n",
       "      <td>70.0</td>\n",
       "      <td>2010</td>\n",
       "      <td>Duo</td>\n",
       "    </tr>\n",
       "    <tr>\n",
       "      <th>1</th>\n",
       "      <td>My First Kiss (feat. Ke$ha)</td>\n",
       "      <td>3OH!3</td>\n",
       "      <td>dance pop</td>\n",
       "      <td>2010</td>\n",
       "      <td>2022‑02‑17</td>\n",
       "      <td>138</td>\n",
       "      <td>89.0</td>\n",
       "      <td>68.0</td>\n",
       "      <td>-4.0</td>\n",
       "      <td>36.0</td>\n",
       "      <td>83.0</td>\n",
       "      <td>192.0</td>\n",
       "      <td>1.0</td>\n",
       "      <td>8.0</td>\n",
       "      <td>68.0</td>\n",
       "      <td>2010</td>\n",
       "      <td>Duo</td>\n",
       "    </tr>\n",
       "    <tr>\n",
       "      <th>2</th>\n",
       "      <td>I Need A Dollar</td>\n",
       "      <td>Aloe Blacc</td>\n",
       "      <td>pop soul</td>\n",
       "      <td>2010</td>\n",
       "      <td>2022‑02‑17</td>\n",
       "      <td>95</td>\n",
       "      <td>48.0</td>\n",
       "      <td>84.0</td>\n",
       "      <td>-7.0</td>\n",
       "      <td>9.0</td>\n",
       "      <td>96.0</td>\n",
       "      <td>243.0</td>\n",
       "      <td>20.0</td>\n",
       "      <td>3.0</td>\n",
       "      <td>72.0</td>\n",
       "      <td>2010</td>\n",
       "      <td>Solo</td>\n",
       "    </tr>\n",
       "    <tr>\n",
       "      <th>3</th>\n",
       "      <td>Airplanes (feat. Hayley Williams of Paramore)</td>\n",
       "      <td>B.o.B</td>\n",
       "      <td>atl hip hop</td>\n",
       "      <td>2010</td>\n",
       "      <td>2022‑02‑17</td>\n",
       "      <td>93</td>\n",
       "      <td>87.0</td>\n",
       "      <td>66.0</td>\n",
       "      <td>-4.0</td>\n",
       "      <td>4.0</td>\n",
       "      <td>38.0</td>\n",
       "      <td>180.0</td>\n",
       "      <td>11.0</td>\n",
       "      <td>12.0</td>\n",
       "      <td>80.0</td>\n",
       "      <td>2010</td>\n",
       "      <td>Solo</td>\n",
       "    </tr>\n",
       "    <tr>\n",
       "      <th>4</th>\n",
       "      <td>Nothin' on You (feat. Bruno Mars)</td>\n",
       "      <td>B.o.B</td>\n",
       "      <td>atl hip hop</td>\n",
       "      <td>2010</td>\n",
       "      <td>2022‑02‑17</td>\n",
       "      <td>104</td>\n",
       "      <td>85.0</td>\n",
       "      <td>69.0</td>\n",
       "      <td>-6.0</td>\n",
       "      <td>9.0</td>\n",
       "      <td>74.0</td>\n",
       "      <td>268.0</td>\n",
       "      <td>39.0</td>\n",
       "      <td>5.0</td>\n",
       "      <td>79.0</td>\n",
       "      <td>2010</td>\n",
       "      <td>Solo</td>\n",
       "    </tr>\n",
       "  </tbody>\n",
       "</table>\n",
       "</div>"
      ],
      "text/plain": [
       "                                           title      artist    top genre  \\\n",
       "0                  STARSTRUKK (feat. Katy Perry)       3OH!3    dance pop   \n",
       "1                    My First Kiss (feat. Ke$ha)       3OH!3    dance pop   \n",
       "2                                I Need A Dollar  Aloe Blacc     pop soul   \n",
       "3  Airplanes (feat. Hayley Williams of Paramore)       B.o.B  atl hip hop   \n",
       "4              Nothin' on You (feat. Bruno Mars)       B.o.B  atl hip hop   \n",
       "\n",
       "   year released       added  bpm  nrgy  dnce   dB  live   val    dur  acous  \\\n",
       "0           2009  2022‑02‑17  140  81.0  61.0 -6.0  23.0  23.0  203.0    0.0   \n",
       "1           2010  2022‑02‑17  138  89.0  68.0 -4.0  36.0  83.0  192.0    1.0   \n",
       "2           2010  2022‑02‑17   95  48.0  84.0 -7.0   9.0  96.0  243.0   20.0   \n",
       "3           2010  2022‑02‑17   93  87.0  66.0 -4.0   4.0  38.0  180.0   11.0   \n",
       "4           2010  2022‑02‑17  104  85.0  69.0 -6.0   9.0  74.0  268.0   39.0   \n",
       "\n",
       "   spch   pop  top year artist type  \n",
       "0   6.0  70.0      2010         Duo  \n",
       "1   8.0  68.0      2010         Duo  \n",
       "2   3.0  72.0      2010        Solo  \n",
       "3  12.0  80.0      2010        Solo  \n",
       "4   5.0  79.0      2010        Solo  "
      ]
     },
     "metadata": {},
     "output_type": "display_data"
    },
    {
     "name": "stdout",
     "output_type": "stream",
     "text": [
      "<class 'pandas.core.frame.DataFrame'>\n",
      "Int64Index: 1000 entries, 0 to 999\n",
      "Data columns (total 17 columns):\n",
      " #   Column         Non-Null Count  Dtype  \n",
      "---  ------         --------------  -----  \n",
      " 0   title          1000 non-null   object \n",
      " 1   artist         1000 non-null   object \n",
      " 2   top genre      1000 non-null   object \n",
      " 3   year released  1000 non-null   int64  \n",
      " 4   added          1000 non-null   object \n",
      " 5   bpm            1000 non-null   int64  \n",
      " 6   nrgy           1000 non-null   float64\n",
      " 7   dnce           1000 non-null   float64\n",
      " 8   dB             1000 non-null   float64\n",
      " 9   live           1000 non-null   float64\n",
      " 10  val            1000 non-null   float64\n",
      " 11  dur            1000 non-null   float64\n",
      " 12  acous          1000 non-null   float64\n",
      " 13  spch           1000 non-null   float64\n",
      " 14  pop            1000 non-null   float64\n",
      " 15  top year       1000 non-null   int64  \n",
      " 16  artist type    1000 non-null   object \n",
      "dtypes: float64(9), int64(3), object(5)\n",
      "memory usage: 140.6+ KB\n"
     ]
    }
   ],
   "source": [
    "df = df.astype({\"top year\":int, \"year released\" : int, \"bpm\": int})\n",
    "display(df.head())\n",
    "df.info()"
   ]
  },
  {
   "cell_type": "code",
   "execution_count": 7,
   "id": "6e11dbaf",
   "metadata": {},
   "outputs": [
    {
     "data": {
      "text/html": [
       "<div>\n",
       "<style scoped>\n",
       "    .dataframe tbody tr th:only-of-type {\n",
       "        vertical-align: middle;\n",
       "    }\n",
       "\n",
       "    .dataframe tbody tr th {\n",
       "        vertical-align: top;\n",
       "    }\n",
       "\n",
       "    .dataframe thead th {\n",
       "        text-align: right;\n",
       "    }\n",
       "</style>\n",
       "<table border=\"1\" class=\"dataframe\">\n",
       "  <thead>\n",
       "    <tr style=\"text-align: right;\">\n",
       "      <th></th>\n",
       "      <th>title</th>\n",
       "      <th>artist</th>\n",
       "      <th>top genre</th>\n",
       "      <th>year released</th>\n",
       "      <th>added</th>\n",
       "      <th>bpm</th>\n",
       "      <th>nrgy</th>\n",
       "      <th>dnce</th>\n",
       "      <th>dB</th>\n",
       "      <th>live</th>\n",
       "      <th>val</th>\n",
       "      <th>dur</th>\n",
       "      <th>acous</th>\n",
       "      <th>spch</th>\n",
       "      <th>pop</th>\n",
       "      <th>top year</th>\n",
       "      <th>artist type</th>\n",
       "    </tr>\n",
       "  </thead>\n",
       "  <tbody>\n",
       "  </tbody>\n",
       "</table>\n",
       "</div>"
      ],
      "text/plain": [
       "Empty DataFrame\n",
       "Columns: [title, artist, top genre, year released, added, bpm, nrgy, dnce, dB, live, val, dur, acous, spch, pop, top year, artist type]\n",
       "Index: []"
      ]
     },
     "execution_count": 7,
     "metadata": {},
     "output_type": "execute_result"
    }
   ],
   "source": [
    "#Não possui linhas duplicadas\n",
    "\n",
    "df[df.duplicated()]"
   ]
  },
  {
   "cell_type": "code",
   "execution_count": 8,
   "id": "afd54242",
   "metadata": {},
   "outputs": [
    {
     "data": {
      "text/plain": [
       "title            945\n",
       "artist           444\n",
       "top genre        132\n",
       "year released     14\n",
       "added             26\n",
       "bpm              122\n",
       "nrgy              80\n",
       "dnce              68\n",
       "dB                16\n",
       "live              67\n",
       "val               93\n",
       "dur              176\n",
       "acous             89\n",
       "spch              50\n",
       "pop               55\n",
       "top year          10\n",
       "artist type        4\n",
       "dtype: int64"
      ]
     },
     "execution_count": 8,
     "metadata": {},
     "output_type": "execute_result"
    }
   ],
   "source": [
    "# Número de valores únicos para cada atributo\n",
    "df.nunique()"
   ]
  },
  {
   "cell_type": "code",
   "execution_count": null,
   "id": "763e0cb2",
   "metadata": {},
   "outputs": [],
   "source": [
    "df.describe().T"
   ]
  },
  {
   "cell_type": "markdown",
   "id": "43f36392",
   "metadata": {},
   "source": [
    "Como nenhuma das colunas pessui desvio padrão 0, então não existe coluna com valores constantes que devem ser descartadas."
   ]
  },
  {
   "cell_type": "markdown",
   "id": "b5070c35",
   "metadata": {},
   "source": [
    "#### 1- Qual o gênero e o artista mais tocado?"
   ]
  },
  {
   "cell_type": "code",
   "execution_count": null,
   "id": "8b67bf28",
   "metadata": {},
   "outputs": [],
   "source": [
    "#Contando a quantidade de vezes cada um dos gêneros aparecem\n",
    "tudo_generos = df['top genre'].value_counts()\n",
    "tudo_generos"
   ]
  },
  {
   "cell_type": "markdown",
   "id": "0fa807dd",
   "metadata": {},
   "source": [
    "### curiosidade:\n",
    "\n",
    "Após ver a lista de gêneros, percebemos que existia mais de um POP e ficamos curioso para saber quantos diferentes tinham e quanto eles representavam da totalidade de Gêneros Musicais da Lista completa"
   ]
  },
  {
   "cell_type": "code",
   "execution_count": null,
   "id": "a79d10a5",
   "metadata": {},
   "outputs": [],
   "source": [
    "print(df[df['top genre'].str.contains('pop')]['top genre'].unique())\n",
    "print(f\"{(len(df[df['top genre'].str.contains('pop')]['top genre'])/len(df))*100:.2f}%\")\n",
    "\n",
    "print(df[df['top genre'] == 'dance pop']['top genre'].unique())\n",
    "print(f\"{(len(df[df['top genre'] == 'dance pop']['top genre'])/len(df))*100:.2f}%\")\n"
   ]
  },
  {
   "cell_type": "markdown",
   "id": "103407d7",
   "metadata": {},
   "source": [
    "### Continuando"
   ]
  },
  {
   "cell_type": "code",
   "execution_count": null,
   "id": "5250da19",
   "metadata": {},
   "outputs": [],
   "source": [
    "#Filtrando os Top 5 dos gêneros musicais e percebendo que existe um empate\n",
    "top_generos = df['top genre'].value_counts().loc[lambda x : (x>= tudo_generos.values[4])]\n",
    "top_generos"
   ]
  },
  {
   "cell_type": "code",
   "execution_count": null,
   "id": "65b4acd5",
   "metadata": {},
   "outputs": [],
   "source": [
    "#Plot do gráfico dos Top 6 gêneros musicais usando o matplotlib\n",
    "fig, ax = plt.subplots(figsize = (8,5))\n",
    "bars = ax.barh(top_generos.index, top_generos.values)\n",
    "\n",
    "ax.bar_label(bars)\n",
    "plt.title(f'Top 6 Gêneros Musicais')\n",
    "plt.xlabel(f'Quantidade')\n",
    "plt.ylabel(f'Gêneros')\n",
    "plt.show()"
   ]
  },
  {
   "cell_type": "code",
   "execution_count": null,
   "id": "97fd038c",
   "metadata": {},
   "outputs": [],
   "source": [
    "#Contando a quantidade de vezes cada um dos artistas aparecem\n",
    "tudo_artistas = df['artist'].value_counts()\n",
    "tudo_artistas"
   ]
  },
  {
   "cell_type": "code",
   "execution_count": null,
   "id": "1fbecd6a",
   "metadata": {},
   "outputs": [],
   "source": [
    "#Filtrando os Top 5 dos artistas\n",
    "top_artistas = df['artist'].value_counts().loc[lambda x : (x>= tudo_artistas.values[4])]\n",
    "top_artistas"
   ]
  },
  {
   "cell_type": "code",
   "execution_count": null,
   "id": "b15bb1a6",
   "metadata": {},
   "outputs": [],
   "source": [
    "#Plot do gráfico dos Top 5 artistas usando o matplotlib\n",
    "fig, ax = plt.subplots(figsize = (5,4))\n",
    "bars = ax.barh(top_artistas.index, top_artistas.values, color = 'r')\n",
    "\n",
    "ax.bar_label(bars)\n",
    "plt.title(f'Top 5 Artistas')\n",
    "plt.xlabel(f'Quantidade')\n",
    "plt.ylabel(f'Artistas')\n",
    "plt.show()"
   ]
  },
  {
   "cell_type": "markdown",
   "id": "9d035a69",
   "metadata": {},
   "source": [
    "#### 1.1 - Qual o gênero e o artista mais tocado por ano?"
   ]
  },
  {
   "cell_type": "code",
   "execution_count": null,
   "id": "6114b0ce",
   "metadata": {},
   "outputs": [],
   "source": [
    "#Separando os anos diferentes em um Array\n",
    "years = df['top year'].unique()\n",
    "\n",
    "for i in years:\n",
    "    display(df[df['top year'] == i].describe())"
   ]
  },
  {
   "cell_type": "code",
   "execution_count": null,
   "id": "921a7053",
   "metadata": {},
   "outputs": [],
   "source": [
    "#Lendo ano a ano e plotando os gêneros musicais que apareceram mais de 1 vez no top 100 de cada ano\n",
    "for i in years:\n",
    "    df_teste = df.copy()\n",
    "    df_teste = df_teste[df_teste['top year']==i]\n",
    "    count = OrderedDict(Counter(df_teste[df_teste.duplicated(['top genre'], keep=False)]['top genre']).most_common())\n",
    "\n",
    "    fig, ax = plt.subplots(figsize = (5,4))\n",
    "    bars = ax.barh(list(count.keys()), count.values())\n",
    "\n",
    "    ax.bar_label(bars)\n",
    "    plt.title(f'Top Gêneros do ano de {i}')\n",
    "    plt.xlabel(f'Quantidade')\n",
    "    plt.ylabel(f'Gêneros')\n",
    "    plt.show()"
   ]
  },
  {
   "cell_type": "code",
   "execution_count": null,
   "id": "1ba077f4",
   "metadata": {},
   "outputs": [],
   "source": [
    "##Lendo ano a ano e plotando os artistas que apareceram mais de 1 vez no top 100 de cada ano\n",
    "for i in years:\n",
    "    df_teste = df.copy()\n",
    "    df_teste = df_teste[df_teste['top year']==i]\n",
    "    count = OrderedDict(Counter(df_teste[df_teste.duplicated(['artist'], keep=False)].artist).most_common())\n",
    "\n",
    "    fig, ax = plt.subplots(figsize = (5,4))\n",
    "    bars = ax.barh(list(count.keys()), count.values(), color = 'r')\n",
    "\n",
    "    ax.bar_label(bars)\n",
    "    plt.title(f'Top Artistas do ano de {i}')\n",
    "    plt.xlabel(f'Quantidade')\n",
    "    plt.ylabel(f'Artistas')\n",
    "    plt.show()"
   ]
  },
  {
   "cell_type": "markdown",
   "id": "ae433c6f",
   "metadata": {},
   "source": [
    "#### 2- Qual a preferência das pessoas: música cantada ou instrumental? música acustica ou eletrônica?"
   ]
  },
  {
   "cell_type": "markdown",
   "id": "6d120f14",
   "metadata": {},
   "source": [
    "##### 2.1- Cantada x Instrumental"
   ]
  },
  {
   "cell_type": "code",
   "execution_count": null,
   "id": "de503503",
   "metadata": {},
   "outputs": [],
   "source": [
    "df.describe().T.loc['spch']"
   ]
  },
  {
   "cell_type": "markdown",
   "id": "4fcb59b3",
   "metadata": {},
   "source": [
    "O atributo spch representa o quanto falada é a música, variando entre 0 (apenas instrumentos) e 100 (totalmente falada, como um podcast). \n",
    "\n",
    "No caso no nosso dataset, o valor varia entre 2 e 53. Observa-se, então, a mediana e os 25% e 75% percentis, mostrando que a maioria dos valores estão concentrados mais próximos do mínimo.\n",
    "\n",
    "Abaixo, mostram-se dois gráficos, boxplot e gráfico de linha, representando essa relação.\n",
    "\n",
    "Assim, através dos dados, mostra-se uma tendência das músicas do top 100 destes anos serem menos faladas e com mais instrumentos."
   ]
  },
  {
   "cell_type": "code",
   "execution_count": null,
   "id": "684bad55",
   "metadata": {},
   "outputs": [],
   "source": [
    "plt.boxplot(df['spch'])"
   ]
  },
  {
   "cell_type": "code",
   "execution_count": null,
   "id": "ab6b4649",
   "metadata": {},
   "outputs": [],
   "source": [
    "#75% percentil\n",
    "\n",
    "plt.plot(sorted(list(df['spch'])))\n",
    "plt.plot(np.ones(1000)*6)\n",
    "plt.plot(np.ones(1000)*10)\n"
   ]
  },
  {
   "cell_type": "markdown",
   "id": "e791f32c",
   "metadata": {},
   "source": [
    "##### 2.2- Acústica x Eletrônica"
   ]
  },
  {
   "cell_type": "code",
   "execution_count": null,
   "id": "624a9e8b",
   "metadata": {},
   "outputs": [],
   "source": [
    "df.describe().T.loc['acous']"
   ]
  },
  {
   "cell_type": "markdown",
   "id": "f0a4de6d",
   "metadata": {},
   "source": [
    "O atributo acous representa o quanto acústica é a música, variando entre 0 (mais eletrônica) e 100 (mais acústica).\n",
    "\n",
    "No caso no nosso dataset, o valor varia entre 0 e 98. Observa-se, então, a mediana e os 25% e 75% percentis, mostrando que a maioria dos valores estão concentrados mais próximos do mínimo.\n",
    "\n",
    "Abaixo, mostram-se dois gráficos, boxplot e gráfico de linha, representando essa relação.\n",
    "\n",
    "Assim, através dos dados, mostra-se uma tendência das músicas do top 100 destes anos serem mais eletrônicas.\n",
    "OBS.: Esse fato também pode ser evidenciado através do índice de correlação entre a energia da música e a acústica, sendo uma correlação forte negativa."
   ]
  },
  {
   "cell_type": "code",
   "execution_count": null,
   "id": "9a8b83a9",
   "metadata": {},
   "outputs": [],
   "source": [
    "plt.boxplot(df['acous'])"
   ]
  },
  {
   "cell_type": "code",
   "execution_count": null,
   "id": "9a17d5b5",
   "metadata": {},
   "outputs": [],
   "source": [
    "#75% percentil\n",
    "\n",
    "plt.plot(sorted(list(df['acous'])))\n",
    "plt.plot(np.ones(1000)*6)\n",
    "plt.plot(np.ones(1000)*14.3)"
   ]
  },
  {
   "cell_type": "markdown",
   "id": "a9460916",
   "metadata": {},
   "source": [
    "#### 3- Qual a faixa de bpm mais escutada? "
   ]
  },
  {
   "cell_type": "code",
   "execution_count": null,
   "id": "d1f51597",
   "metadata": {},
   "outputs": [],
   "source": [
    "plt.hist(list(df.bpm), bins=30, ec='black') "
   ]
  },
  {
   "cell_type": "markdown",
   "id": "4209c26d",
   "metadata": {},
   "source": [
    "Analisando o Histograma, a Média e desvio padrão, nota-se que existe uma preferência por músicas de andamento Allegro (120 - 139 BPM)"
   ]
  },
  {
   "cell_type": "markdown",
   "id": "dd613ea0",
   "metadata": {},
   "source": [
    "#### 4- Existem mais música que geram sentimentos positivos ou negativos?"
   ]
  },
  {
   "cell_type": "code",
   "execution_count": null,
   "id": "c0ebb3e5",
   "metadata": {},
   "outputs": [],
   "source": [
    "plt.hist(list(df.val), bins=30, ec='black') "
   ]
  },
  {
   "cell_type": "markdown",
   "id": "5ec53358",
   "metadata": {},
   "source": [
    "Analisando o Histograma, percebe-se que as músicas são bem balanceadas nesse quesito. Não existe uma preferência muito forte. Varia de pessoa para pessoa"
   ]
  },
  {
   "cell_type": "markdown",
   "id": "f36fad62",
   "metadata": {},
   "source": [
    "#### 5 - 6 - 7 -> Qual a Correlação entre cada variável?"
   ]
  },
  {
   "cell_type": "code",
   "execution_count": null,
   "id": "982b6027",
   "metadata": {},
   "outputs": [],
   "source": [
    "plt.figure(figsize=(10, 9))\n",
    "sns.heatmap(df.corr(), cmap='coolwarm', annot=True, fmt='.2f')"
   ]
  },
  {
   "cell_type": "markdown",
   "id": "a857b293",
   "metadata": {},
   "source": [
    "# Legenda:\n",
    "- Entre 0.7 e 0.89: correlação forte;\n",
    "- Entre 0.40 e 0.69:  correlação moderada;\n",
    "- Entre 0.1 e 0.39:correlação fraca; \n",
    "- (Vermelho)- correlação desprezível por ser da variável com ela mesma\n",
    "\n",
    "\n",
    "### Correlação forte positiva entre energia e dB (0.71) e entre Ano de Lançamento com o Ano em que foi top (0,85). \n",
    "\n",
    "### Correlação fraca positiva entre dance e valence (0.26), entre valence e energia (0.37) e entre dB e Valence (0,32)\n",
    "\n",
    "### Correlação moderada negativa entre energia e acustica(-0.50)\n",
    "\n",
    "### As variáveis popularidade e BPM não parecem ter correlações consideráveis com nenhuma outra variável."
   ]
  },
  {
   "cell_type": "markdown",
   "id": "cb4541d4",
   "metadata": {},
   "source": [
    "#### 8- Qual o máximo de anos que uma música permaneceu no top?"
   ]
  },
  {
   "cell_type": "code",
   "execution_count": null,
   "id": "cabbf50d",
   "metadata": {},
   "outputs": [],
   "source": [
    "mais_um_ano = df['title'].value_counts().loc[lambda x : (x>= 2)]\n",
    "mais_um_ano"
   ]
  },
  {
   "cell_type": "markdown",
   "id": "875eda12",
   "metadata": {},
   "source": [
    "Analisando a célula acima, vemos que o máximo de ano que uma música permaceu no TOP 100 foram 3 anos."
   ]
  },
  {
   "cell_type": "markdown",
   "id": "5eddf329",
   "metadata": {},
   "source": [
    "#### 9- Qual o tipo de artista mais tocado?\n"
   ]
  },
  {
   "cell_type": "code",
   "execution_count": null,
   "id": "e2a2872a",
   "metadata": {},
   "outputs": [],
   "source": [
    "tipos_artistas = df['artist type'].value_counts()\n",
    "tipos_artistas"
   ]
  },
  {
   "cell_type": "code",
   "execution_count": null,
   "id": "84760e82",
   "metadata": {},
   "outputs": [],
   "source": [
    "fig, ax = plt.subplots(figsize = (5,5))\n",
    "ax.pie(tipos_artistas.values, labels = tipos_artistas.index, autopct='%1.1f%%')\n",
    "plt.title(f'Tipos de Artistas')\n",
    "plt.show()"
   ]
  },
  {
   "cell_type": "code",
   "execution_count": null,
   "id": "a78f15e3",
   "metadata": {},
   "outputs": [],
   "source": [
    "#Tipos de Artistas por Ano\n",
    "\n",
    "ts_ty = sns.countplot(x=\"top year\", hue=\"artist type\", data=df).set(title='Tipos de Artistas por ano');\n",
    "plt.legend(bbox_to_anchor=(1.05, 1), loc=2, borderaxespad=0.);"
   ]
  },
  {
   "cell_type": "markdown",
   "id": "d5e35cd1",
   "metadata": {},
   "source": [
    "O tipo de artista mais tocado foi Solo.\n",
    "\n",
    "Houve um crescimento da presença de bandas em 2012.\n",
    "\n",
    "Os trios começaram a aparecer a partir de 2015, tendo pico em 2017 e não estando presentes em 2019."
   ]
  },
  {
   "cell_type": "markdown",
   "id": "df9dccbd",
   "metadata": {},
   "source": [
    "## Extra - Curiosidade"
   ]
  },
  {
   "cell_type": "markdown",
   "id": "39f1c03b",
   "metadata": {},
   "source": [
    "### Há músicas fora do período designado?"
   ]
  },
  {
   "cell_type": "code",
   "execution_count": null,
   "id": "5ec095c2",
   "metadata": {},
   "outputs": [],
   "source": [
    "#viajantes do tempo, claro\n",
    "display(df[~df['year released'].isin(years)].sort_values(by=['year released']))\n",
    "print(len(df[~df['year released'].isin(years)]))"
   ]
  },
  {
   "cell_type": "markdown",
   "id": "831f56b5",
   "metadata": {},
   "source": [
    "### Média de cada atributo por ano"
   ]
  },
  {
   "cell_type": "code",
   "execution_count": null,
   "id": "d52c79a2",
   "metadata": {},
   "outputs": [],
   "source": [
    "df_mean = df.groupby('top year').mean()\n",
    "df_mean"
   ]
  },
  {
   "cell_type": "markdown",
   "id": "0cabee0a",
   "metadata": {},
   "source": [
    "### Quais palavras mais se repetem nos títulos do top 10"
   ]
  },
  {
   "cell_type": "code",
   "execution_count": null,
   "id": "63863522",
   "metadata": {},
   "outputs": [],
   "source": [
    "from wordcloud import WordCloud, STOPWORDS, ImageColorGenerator\n",
    "from PIL import Image\n",
    "from nltk.corpus import stopwords\n",
    "\n",
    "spotify['title'] = spotify['title'].str.extract('([a-zA-Z ]+)', expand=False).str.strip()\n",
    "\n",
    "def wordCloudFunction(df,column,numWords,mask=None):\n",
    "    topic_words = [ z.lower() for y in\n",
    "                       [ x.split() for x in df[column] if isinstance(x, str)]\n",
    "                       for z in y]\n",
    "    word_count_dict = dict(Counter(topic_words))\n",
    "    popular_words = sorted(word_count_dict, key = word_count_dict.get, reverse = True)\n",
    "    popular_words_nonstop = [w for w in popular_words if w not in stopwords.words(\"english\")]\n",
    "    word_string=str(popular_words_nonstop)\n",
    "    wordcloud = WordCloud(stopwords=STOPWORDS,\n",
    "                          background_color='white',\n",
    "                          max_words=numWords,\n",
    "                          width=1000,height=1000,\n",
    "                          mask=mask\n",
    "                         ).generate(word_string)\n",
    "    plt.clf()\n",
    "    plt.imshow(wordcloud)\n",
    "    plt.axis('off')\n",
    "    \n",
    "plt.figure(figsize=(10,10))\n",
    "wordCloudFunction(spotify,'title',10000000)"
   ]
  },
  {
   "cell_type": "code",
   "execution_count": null,
   "id": "620f175f",
   "metadata": {},
   "outputs": [],
   "source": [
    "mask = df.apply(lambda r: r.astype(str).str.contains(\"love\", case=False).title, axis=1)\n",
    "display(df[mask])\n",
    "len(df[mask])"
   ]
  },
  {
   "cell_type": "markdown",
   "id": "a77b9c4c",
   "metadata": {},
   "source": [
    "## Extra - Pandas Profiling"
   ]
  },
  {
   "cell_type": "code",
   "execution_count": null,
   "id": "74423210",
   "metadata": {},
   "outputs": [],
   "source": [
    "from pandas_profiling import ProfileReport\n",
    "profile_report = ProfileReport(df)\n",
    "profile_report"
   ]
  },
  {
   "cell_type": "code",
   "execution_count": null,
   "id": "6987bb5b",
   "metadata": {},
   "outputs": [],
   "source": []
  },
  {
   "cell_type": "code",
   "execution_count": null,
   "id": "817704fa",
   "metadata": {},
   "outputs": [],
   "source": []
  },
  {
   "cell_type": "markdown",
   "id": "5f77ec7f",
   "metadata": {},
   "source": [
    "# DECIDIR O Q FAZER COM ISSO AQUI"
   ]
  },
  {
   "cell_type": "code",
   "execution_count": null,
   "id": "64299402",
   "metadata": {},
   "outputs": [],
   "source": [
    "\n",
    "print(Counter(df[df.duplicated(['title'], keep=False)].title))\n",
    "\n",
    "df[df.duplicated(['title'])]\n"
   ]
  },
  {
   "cell_type": "code",
   "execution_count": null,
   "id": "d817a2f7",
   "metadata": {},
   "outputs": [],
   "source": [
    "\n",
    "\n",
    "years = df['top year'].unique()\n",
    "\n",
    "for i in years:\n",
    "    df_teste = df.copy()\n",
    "    df_teste = df_teste[df_teste['top year']==i]\n",
    "    count = OrderedDict(Counter(df_teste[df_teste.duplicated(['artist'], keep=False)].artist).most_common())\n",
    "    plt.figure(figsize=(3, 3))\n",
    "    plt.title(f\"{i}\")\n",
    "    plt.barh(list(count.keys()), count.values())\n"
   ]
  },
  {
   "cell_type": "code",
   "execution_count": null,
   "id": "24bd8b3c",
   "metadata": {},
   "outputs": [],
   "source": [
    "count = OrderedDict(Counter(df[df.duplicated(['artist'], keep=False)].artist).most_common())\n",
    "plt.figure(figsize=(8, 32))\n",
    "plt.barh(list(count.keys()), count.values())\n",
    "\n",
    "#df[df.duplicated(['artist'])]"
   ]
  },
  {
   "cell_type": "code",
   "execution_count": null,
   "id": "5f7557cd",
   "metadata": {},
   "outputs": [],
   "source": [
    "# Análise do \"Added\"\n",
    "for i in years:\n",
    "    print(int(i))\n",
    "    print(Counter(df[df['top year'] == i]['added']))\n",
    "    print(len(df[df['top year'] == i]['added'].unique()))\n",
    "    print()"
   ]
  },
  {
   "cell_type": "code",
   "execution_count": null,
   "id": "62fcb94d",
   "metadata": {},
   "outputs": [],
   "source": [
    "\n",
    "years = df['top year'].unique()\n",
    "\n",
    "for i in years:\n",
    "    df_teste = df.copy()\n",
    "    df_teste = df_teste[df_teste['top year']==i]\n",
    "    count = OrderedDict(Counter(df_teste[df_teste.duplicated(['top genre'], keep=False)]['top genre']).most_common())\n",
    "    plt.figure(figsize=(3, 3))\n",
    "    plt.title(f\"{i}\")\n",
    "    plt.barh(list(count.keys()), count.values(), color='red')"
   ]
  },
  {
   "cell_type": "code",
   "execution_count": null,
   "id": "12b217e5",
   "metadata": {},
   "outputs": [],
   "source": [
    "\n",
    "count = OrderedDict(Counter(df['top genre']).most_common())\n",
    "plt.figure(figsize=(10, 20))\n",
    "plt.barh(list(count.keys()), count.values(), color='red')\n"
   ]
  },
  {
   "cell_type": "code",
   "execution_count": null,
   "id": "87a438f4",
   "metadata": {},
   "outputs": [],
   "source": [
    "!pip install pandas_profiling"
   ]
  },
  {
   "cell_type": "code",
   "execution_count": null,
   "id": "c01c823f",
   "metadata": {},
   "outputs": [],
   "source": [
    "from pandas_profiling import ProfileReport\n",
    "profile_report = ProfileReport(df)\n",
    "profile_report"
   ]
  },
  {
   "cell_type": "code",
   "execution_count": null,
   "id": "e6fa393e",
   "metadata": {},
   "outputs": [],
   "source": [
    "pd.pivot_table(df, index = 'artist type', \n",
    "               columns = 'top year', values = 'artist' ,aggfunc ='count')"
   ]
  },
  {
   "cell_type": "code",
   "execution_count": null,
   "id": "6f283358",
   "metadata": {},
   "outputs": [],
   "source": [
    "'Solo artists have instances of the highest speechiness'\n",
    "'[note the increasing popularity of hip hop and rap]'\n",
    "dfM = df\n",
    "spotify = df\n",
    "plt.figure(figsize=(10,10))\n",
    "s_ty = sns.stripplot(x=dfM['artist type'], y=dfM['spch'], data=dfM)\n",
    "s_ty.set_title('Speechiness by Artist Type, 2010-2019')\n",
    "s_ty.set_ylabel('Speechiness')\n",
    "s_ty.set_xlabel('Artist Type');"
   ]
  },
  {
   "cell_type": "code",
   "execution_count": null,
   "id": "96bb6d42",
   "metadata": {},
   "outputs": [],
   "source": [
    "dfM= df\n",
    "spotify = df"
   ]
  },
  {
   "cell_type": "code",
   "execution_count": null,
   "id": "5c1e7374",
   "metadata": {},
   "outputs": [],
   "source": [
    "dfM_Mean = dfM.groupby('top year').mean()\n",
    "dfM_Mean"
   ]
  },
  {
   "cell_type": "code",
   "execution_count": null,
   "id": "37ca105c",
   "metadata": {},
   "outputs": [],
   "source": [
    "df.shape\n",
    "df.columns"
   ]
  },
  {
   "cell_type": "code",
   "execution_count": null,
   "id": "9014c33e",
   "metadata": {},
   "outputs": [],
   "source": [
    "spotify.nunique()"
   ]
  },
  {
   "cell_type": "code",
   "execution_count": null,
   "id": "1a87d88d",
   "metadata": {},
   "outputs": [],
   "source": [
    "categories= spotify['artist type'].value_counts().index.tolist() #Categories from the artist type\n",
    "values= spotify['artist type'].value_counts().values.tolist()    #Values from the artist type\n",
    "fig1 = px.pie(spotify, values=values, names=categories, color_discrete_sequence=px.colors.sequential.Aggrnyl,title='% artist type' )\n",
    "fig1.update_layout(\n",
    "    font_family=\"Courier New\",\n",
    "    font_color=\"blue\",\n",
    "    title_font_family=\"Times New Roman\",\n",
    "    title_font_color=\"blue\",\n",
    "    title_x=0.50,\n",
    "    title_font=dict(size=30)\n",
    "    \n",
    ")\n",
    "fig1.show()\n",
    "\n",
    "#grafico de pizza - colcoar com o pyplot"
   ]
  },
  {
   "cell_type": "code",
   "execution_count": null,
   "id": "97a89fe7",
   "metadata": {},
   "outputs": [],
   "source": [
    "#https://www.kaggle.com/code/agustin222/spotify-visual-and-eda"
   ]
  },
  {
   "cell_type": "code",
   "execution_count": null,
   "id": "0a2e147e",
   "metadata": {},
   "outputs": [],
   "source": [
    "\n"
   ]
  },
  {
   "cell_type": "code",
   "execution_count": null,
   "id": "ad8a2c64",
   "metadata": {},
   "outputs": [],
   "source": []
  },
  {
   "cell_type": "code",
   "execution_count": null,
   "id": "6f1c8835",
   "metadata": {},
   "outputs": [],
   "source": [
    "plt.figure(figsize=(10,8))\n",
    "plt.title('Top Genre in Spotify',fontsize=15, fontweight='bold')\n",
    "ax = sns.countplot(x=\"top genre\", data=spotify, palette=\"Set3\", order=spotify['top genre'].value_counts().index[0:15])\n",
    "plt.xticks(rotation=45);"
   ]
  },
  {
   "cell_type": "code",
   "execution_count": null,
   "id": "7aa6df1c",
   "metadata": {},
   "outputs": [],
   "source": [
    "index=spotify['artist'].value_counts()[spotify['artist'].value_counts()>5].index.tolist()\n",
    "val=spotify['artist'].value_counts()[spotify['artist'].value_counts()>5].values.tolist()\n",
    "plt.rcParams['figure.figsize']=16,5\n",
    "clrs = ['grey' if (x < val[4]) else 'red' for x in val ]\n",
    "ax= sns.barplot(x=index, y=val, palette=clrs) #colors clrs\n",
    "plt.xticks(rotation=90)\n",
    "for i in ax.containers:\n",
    "    ax.bar_label(i)\n",
    "plt.title('Artists with more than 5 hits',fontsize=15, fontweight='bold');\n",
    "plt.show()"
   ]
  },
  {
   "cell_type": "code",
   "execution_count": null,
   "id": "d0614458",
   "metadata": {},
   "outputs": [],
   "source": [
    "#Top artista por gênero (top 5 generos)"
   ]
  },
  {
   "cell_type": "code",
   "execution_count": null,
   "id": "048040e0",
   "metadata": {},
   "outputs": [],
   "source": [
    "# Fazer a correlação usando também as variaveis de texto"
   ]
  },
  {
   "cell_type": "code",
   "execution_count": null,
   "id": "a8370d67",
   "metadata": {},
   "outputs": [],
   "source": []
  },
  {
   "cell_type": "code",
   "execution_count": null,
   "id": "d7455cb2",
   "metadata": {},
   "outputs": [],
   "source": [
    "from wordcloud import WordCloud, STOPWORDS, ImageColorGenerator\n",
    "from PIL import Image\n",
    "from collections import Counter\n",
    "from nltk.corpus import stopwords\n",
    "\n",
    "#Avoid the brackets, they have the singer names and words like feat,etc.\n",
    "spotify['title'] = spotify['title'].str.extract('([a-zA-Z ]+)', expand=False).str.strip()\n",
    "\n",
    "def wordCloudFunction(df,column,numWords,mask=None):\n",
    "    topic_words = [ z.lower() for y in\n",
    "                       [ x.split() for x in df[column] if isinstance(x, str)]\n",
    "                       for z in y]\n",
    "    word_count_dict = dict(Counter(topic_words))\n",
    "    popular_words = sorted(word_count_dict, key = word_count_dict.get, reverse = True)\n",
    "    popular_words_nonstop = [w for w in popular_words if w not in stopwords.words(\"english\")]\n",
    "    word_string=str(popular_words_nonstop)\n",
    "    wordcloud = WordCloud(stopwords=STOPWORDS,\n",
    "                          background_color='white',\n",
    "                          max_words=numWords,\n",
    "                          width=1000,height=1000,\n",
    "                          mask=mask\n",
    "                         ).generate(word_string)\n",
    "    plt.clf()\n",
    "    plt.imshow(wordcloud)\n",
    "    plt.axis('off')\n",
    "    \n",
    "plt.figure(figsize=(15,15))\n",
    "comments_mask =np.array(Image.open( 'upvote.png'))\n",
    "wordCloudFunction(spotify,'title',10000000)"
   ]
  },
  {
   "cell_type": "code",
   "execution_count": null,
   "id": "a95c1229",
   "metadata": {},
   "outputs": [],
   "source": [
    "#Aplicadno paleta de cores da imagem no trem\n",
    "\n",
    "import re\n",
    "text = \" \".join(title for title in df.title)\n",
    "text = \"\".join(re.split(\"\\(|\\)|\\[|\\]\", text)[::2])\n",
    "text = text.replace('Edit ', '')\n",
    "text = text.replace('Radio ', '')\n",
    "text = text.replace('Remix', '')\n",
    "\n",
    "#custom_mask = np.array(Image.open(\"upvote.png\"))\n",
    "word_cloud = WordCloud(collocations = False, background_color = 'white').generate(text)\n",
    "\n",
    "image_colors = ImageColorGenerator(custom_mask)\n",
    "word_cloud.recolor(color_func=image_colors)\n",
    "\n",
    "plt.imshow(word_cloud, interpolation='bilinear')\n",
    "plt.axis(\"off\")\n",
    "plt.show()"
   ]
  },
  {
   "cell_type": "code",
   "execution_count": null,
   "id": "4100472f",
   "metadata": {},
   "outputs": [],
   "source": []
  },
  {
   "cell_type": "code",
   "execution_count": null,
   "id": "f55ee851",
   "metadata": {},
   "outputs": [],
   "source": [
    "\n",
    "#viagem no tempo\n",
    "#viajantes do tempo, claro\n",
    "spotify['year released'].value_counts()\n",
    "df[df['year released'] == 1975]\n",
    "display(df[~df['year released'].isin(years)].sort_values(by=['year released']))\n",
    "len(df[~df['year released'].isin(years)])"
   ]
  },
  {
   "cell_type": "code",
   "execution_count": null,
   "id": "606ce5a6",
   "metadata": {},
   "outputs": [],
   "source": [
    "#Are there songs within the top that are outside the decade, that is, songs released outside the range?\n"
   ]
  },
  {
   "cell_type": "code",
   "execution_count": null,
   "id": "6cfb0b0f",
   "metadata": {},
   "outputs": [],
   "source": [
    "#Have the songs become sadder?\n",
    "# How has the energy variable evolved?\n",
    "# How has the danceability variable evolved?\n",
    "# "
   ]
  },
  {
   "cell_type": "code",
   "execution_count": null,
   "id": "7b5717a3",
   "metadata": {},
   "outputs": [],
   "source": [
    "genres_year = df[['top genre', 'top year']]\n",
    "genres_year = genres_year.rename(columns={'top year':'top_year'})\n",
    "def cont_gen(ds):\n",
    "    years = range(2010, 2020)\n",
    "    y_g = pd.DataFrame()\n",
    "    for i in years:\n",
    "        col = ds[ds.top_year == i]['top genre'].value_counts()\n",
    "        col = col[:3]\n",
    "        col.to_frame()\n",
    "        col = col.rename(str(i))\n",
    "        y_g = y_g.append(col)\n",
    "\n",
    "    return y_g\n",
    "\n",
    "genres_years = cont_gen(genres_year)\n",
    "genres_years\n",
    "\n",
    "f1 = plt.figure()\n",
    "colors = ['tomato','lightseagreen', 'Aqua', 'Firebrick', 'DarkViolet', 'Gainsboro', 'Olive', 'Gold', 'Pink', 'Black', 'Blue', 'Red']\n",
    "plt.style.use('seaborn-darkgrid')\n",
    "genres_years.plot(kind='bar', ax=f1.gca(), stacked=True ,figsize=(10,9), color=colors, ylabel='Number of songs in the top', xlabel='Years', title='Most popular genres of the decade')\n",
    "plt.legend(loc='center left', bbox_to_anchor=(1.0, 0.5))\n",
    "plt.show()"
   ]
  },
  {
   "cell_type": "code",
   "execution_count": null,
   "id": "1b2d07e3",
   "metadata": {},
   "outputs": [],
   "source": [
    "df.groupby('artist')['artist'].count().sort_values(ascending=False)"
   ]
  },
  {
   "cell_type": "code",
   "execution_count": null,
   "id": "0a91c006",
   "metadata": {},
   "outputs": [],
   "source": [
    "artist_decade = df[['artist', 'top year']]\n",
    "artist_decade = artist_decade.rename(columns={'top year':'top_year'})\n",
    "def cont_art(ds):\n",
    "    years = range(2010, 2020)\n",
    "    a_d = pd.DataFrame()\n",
    "    for i in years:\n",
    "        col = ds[ds.top_year == i]['artist'].value_counts()\n",
    "        col = col[:3]\n",
    "        col.to_frame()\n",
    "        col = col.rename(str(i))\n",
    "        a_d = a_d.append(col)\n",
    "\n",
    "    return a_d\n",
    "\n",
    "artist_decades = cont_art(artist_decade)\n",
    "artist_decades"
   ]
  },
  {
   "cell_type": "code",
   "execution_count": null,
   "id": "b8aea386",
   "metadata": {},
   "outputs": [],
   "source": [
    "sad = df[['val', 'top year']]\n",
    "sad = sad.rename(columns={'top year':'top_year'})\n",
    "def cont_sad(ds):\n",
    "    years = range(2010, 2020)\n",
    "    s = {}\n",
    "    for i in years:\n",
    "        sa = sad[sad.top_year == i]\n",
    "        pro = sa.mean()\n",
    "        s[i] = pro[0]\n",
    "    return s\n",
    "sad1 = cont_sad(sad)\n",
    "sad1 = pd.DataFrame(sad1.items(), columns=['year', 'prom_sad'])\n",
    "sad1\n",
    "\n",
    "sns.set_theme(style=\"darkgrid\")\n",
    "f3 = sns.lineplot(data=sad1, x=\"year\", y=\"prom_sad\")\n",
    "f3.set_title('Graph of the change in the mood of the songs in the decade 2010-2019')\n",
    "f3.set_ylabel('Positivity of the songs')\n",
    "f3.set_xlabel('Years')\n",
    "plt.show()"
   ]
  },
  {
   "cell_type": "code",
   "execution_count": null,
   "id": "b120b555",
   "metadata": {},
   "outputs": [],
   "source": [
    "nrgy = df[['nrgy', 'top year']]\n",
    "nrgy = nrgy.rename(columns={'top year':'top_year'})\n",
    "def cont_nrgy(ds):\n",
    "    years = range(2010, 2020)\n",
    "    s = {}\n",
    "    for i in years:\n",
    "        sa = nrgy[nrgy.top_year == i]\n",
    "        pro = sa.mean()\n",
    "        s[i] = pro[0]\n",
    "    return s\n",
    "energy = cont_nrgy(nrgy)\n",
    "energy = pd.DataFrame(energy.items(), columns=['year', 'prom_energy'])\n",
    "energy\n",
    "\n",
    "sns.set_theme(style=\"darkgrid\")\n",
    "f4 = sns.lineplot(data=energy, x=\"year\", y=\"prom_energy\")\n",
    "f4.set_title('Graph of the change of energy of the songs in the decade 2010-2019')\n",
    "f4.set_ylabel('Energy of the songs')\n",
    "f4.set_xlabel('Years')\n",
    "plt.show()"
   ]
  },
  {
   "cell_type": "code",
   "execution_count": null,
   "id": "79d07dc3",
   "metadata": {},
   "outputs": [],
   "source": [
    "dnce = df[['dnce', 'top year']]\n",
    "dnce = dnce.rename(columns={'top year':'top_year'})\n",
    "def cont_dnce(ds):\n",
    "    years = range(2010, 2020)\n",
    "    s = {}\n",
    "    for i in years:\n",
    "        sa = dnce[dnce.top_year == i]\n",
    "        pro = sa.mean()\n",
    "        s[i] = pro[0]\n",
    "    return s\n",
    "dance = cont_dnce(dnce)\n",
    "dance = pd.DataFrame(dance.items(), columns=['year', 'prom_dance'])\n",
    "dance\n",
    "\n",
    "sns.set_theme(style=\"darkgrid\")\n",
    "f5 = sns.lineplot(data=dance, x=\"year\", y=\"prom_dance\")\n",
    "f5.set_title('Graph of the change of danceability of the songs in the decade 2010-2019')\n",
    "f5.set_ylabel('Danceability of the songs')\n",
    "f5.set_xlabel('Years')\n",
    "plt.show()"
   ]
  },
  {
   "cell_type": "code",
   "execution_count": null,
   "id": "3a29cf1d",
   "metadata": {},
   "outputs": [],
   "source": [
    "sns.set_theme(style=\"darkgrid\")\n",
    "f5 = sns.lineplot(data=dance, x=\"year\", y=\"prom_dance\")\n",
    "f4 = sns.lineplot(data=energy, x=\"year\", y=\"prom_energy\")\n",
    "f3 = sns.lineplot(data=sad1, x=\"year\", y=\"prom_sad\")\n",
    "f5.set_xlabel('Years')\n",
    "plt.show()"
   ]
  },
  {
   "cell_type": "code",
   "execution_count": null,
   "id": "46b2c725",
   "metadata": {},
   "outputs": [],
   "source": [
    "\"The data has some inconsistencies such as the 'dB' category, which has negative values.\""
   ]
  },
  {
   "cell_type": "code",
   "execution_count": null,
   "id": "68429c0a",
   "metadata": {},
   "outputs": [],
   "source": [
    "#https://www.kaggle.com/code/surendra01/expert-level-seaborn-viz"
   ]
  },
  {
   "cell_type": "code",
   "execution_count": null,
   "id": "4ee1acc7",
   "metadata": {},
   "outputs": [],
   "source": [
    "#1) kdeplot\n",
    "#A kernel density estimate (KDE) plot is a method for visualizing the distribution of observations in a dataset, analagous to a histogram. KDE represents the data using a continuous probability density curve in one or more dimensions.\n",
    "\n",
    "# basic kdeplot\n",
    "sns.kdeplot(df['bpm']);"
   ]
  },
  {
   "cell_type": "code",
   "execution_count": null,
   "id": "fdb3b4d8",
   "metadata": {},
   "outputs": [],
   "source": [
    "plt.figure(figsize = (10,6))      # to increase the size of plot \n",
    "sns.kdeplot(df['bpm'],\n",
    "            color = 'brown',       # to change the color \n",
    "            shade = True)          # fill the graph \n",
    "plt.title('Distrubution of bpm',       # giving title to a grpah\n",
    "          fontsize = 20)               # to increase the size of title\n",
    "\n",
    "plt.xlabel('bpm', fontsize = 14)\n",
    "plt.ylabel('density', fontsize = 14);"
   ]
  },
  {
   "cell_type": "code",
   "execution_count": null,
   "id": "dfc5cb04",
   "metadata": {},
   "outputs": [],
   "source": []
  },
  {
   "cell_type": "code",
   "execution_count": null,
   "id": "e195f7f9",
   "metadata": {},
   "outputs": [],
   "source": [
    "#2) Displot\n",
    "# Seaborn distplot lets you show a histogram with a line on it. This can be shown in all kinds of variations. We use seaborn in combination with matplotlib, the Python plotting module."
   ]
  },
  {
   "cell_type": "code",
   "execution_count": null,
   "id": "6eadf41d",
   "metadata": {},
   "outputs": [],
   "source": [
    "# basic plot\n",
    "sns.displot(df['nrgy']); "
   ]
  },
  {
   "cell_type": "code",
   "execution_count": null,
   "id": "19e09719",
   "metadata": {},
   "outputs": [],
   "source": [
    "plt.figure(figsize = (7,7))\n",
    "sns.displot(df['nrgy'],  bins = 27,\n",
    "            kde = True,        # with histogram it also implement smooth curve \n",
    "            color = '#E24A33');   # specify  the color\n",
    "\n",
    "plt.title('Distribution of nrgy', fontsize = 15)"
   ]
  },
  {
   "cell_type": "code",
   "execution_count": null,
   "id": "9e2a1697",
   "metadata": {},
   "outputs": [],
   "source": [
    "#3) Histplot\n",
    "#A histogram is a classic visualization tool that represents the distribution of one or more variables by counting the number of observations that fall within disrete bins."
   ]
  },
  {
   "cell_type": "code",
   "execution_count": null,
   "id": "8086fbcc",
   "metadata": {},
   "outputs": [],
   "source": [
    "plt.figure(figsize = (6,6))\n",
    "sns.histplot(x = df['live'],\n",
    "             binwidth = 4,   # size of one bin\n",
    "             bins = 24,      # number of bins\n",
    "             kde = True,     # curve of distribution\n",
    "             color = 'gold',\n",
    "            alpha = 0.7);"
   ]
  },
  {
   "cell_type": "code",
   "execution_count": null,
   "id": "b98d6843",
   "metadata": {},
   "outputs": [],
   "source": [
    "#4)Scatter Plot\n",
    "#The scatter plot is a mainstay of statistical visualization. It depicts the joint distribution of two variables using a cloud of points, where each point represents an observation in the dataset."
   ]
  },
  {
   "cell_type": "code",
   "execution_count": null,
   "id": "832b8caf",
   "metadata": {},
   "outputs": [],
   "source": [
    "sns.scatterplot(data = df,\n",
    "                x = 'spch',\n",
    "                y = 'dnce');"
   ]
  },
  {
   "cell_type": "code",
   "execution_count": null,
   "id": "0506a184",
   "metadata": {},
   "outputs": [],
   "source": [
    "plt.figure(figsize = (12,6))\n",
    "sns.scatterplot(data = df,\n",
    "                x = 'spch',\n",
    "                y = 'dnce',\n",
    "                hue = 'artist type',\n",
    "                palette = 'rocket',    # categorical variable\n",
    "                s = 50 );     # size of dots\n",
    "\n",
    "plt.title('spch Vs dnce', fontsize = 15)"
   ]
  },
  {
   "cell_type": "code",
   "execution_count": null,
   "id": "5b5e6fdd",
   "metadata": {},
   "outputs": [],
   "source": [
    "#5) Jointplot\n",
    "#Joint plot is used to get the distribution of individual variable and relationship between"
   ]
  },
  {
   "cell_type": "code",
   "execution_count": null,
   "id": "74d44dc5",
   "metadata": {},
   "outputs": [],
   "source": [
    "plt.figure(figsize = (12,6))\n",
    "sns.jointplot(data = df,\n",
    "                x = 'spch',\n",
    "                y = 'dnce');"
   ]
  },
  {
   "cell_type": "code",
   "execution_count": null,
   "id": "a70dc514",
   "metadata": {},
   "outputs": [],
   "source": [
    "plt.figure(figsize = (12,12))\n",
    "\n",
    "sns.jointplot(data = df,\n",
    "                x = 'spch',\n",
    "                y = 'dnce',\n",
    "                hue = 'artist type',    # for categorical\n",
    "              palette = 'twilight');"
   ]
  },
  {
   "cell_type": "code",
   "execution_count": null,
   "id": "8538d2d9",
   "metadata": {},
   "outputs": [],
   "source": [
    "#6)Lineplot\n",
    "#Whenever in dataset there is date column then we can use line plot"
   ]
  },
  {
   "cell_type": "code",
   "execution_count": null,
   "id": "9e5a9d3c",
   "metadata": {},
   "outputs": [],
   "source": [
    "plt.figure(figsize = (12,6))\n",
    "sns.lineplot(data = df, x = 'top year', y = 'live');"
   ]
  },
  {
   "cell_type": "code",
   "execution_count": null,
   "id": "6bf1862b",
   "metadata": {},
   "outputs": [],
   "source": [
    "#Light blue shade is the 95% confidence interval around the mean.\n",
    "#It is clear trend that over the year liveness is reduced"
   ]
  },
  {
   "cell_type": "code",
   "execution_count": null,
   "id": "9516fc7e",
   "metadata": {},
   "outputs": [],
   "source": [
    "#7) Rel Plot\n",
    "#This function provides access to several different axes-level functions that show the relationship between two variables with semantic mappings of subsets. The kind parameter selects the underlying axes-level function to use:"
   ]
  },
  {
   "cell_type": "code",
   "execution_count": null,
   "id": "2e381756",
   "metadata": {},
   "outputs": [],
   "source": [
    "sns.relplot(x = 'year released',\n",
    "            y = 'val',\n",
    "            data = df,\n",
    "            kind= 'line', \n",
    "            color = 'olive');"
   ]
  },
  {
   "cell_type": "code",
   "execution_count": null,
   "id": "1de0edb0",
   "metadata": {},
   "outputs": [],
   "source": [
    "#8) Pair Plot\n",
    "#Pairplot make matrix of plot in which diagonal plot are single variable histogram plot and non diagonal are scatterplot"
   ]
  },
  {
   "cell_type": "code",
   "execution_count": null,
   "id": "eeff9fc0",
   "metadata": {},
   "outputs": [],
   "source": [
    "sns.pairplot(df)"
   ]
  },
  {
   "cell_type": "code",
   "execution_count": null,
   "id": "0d32997f",
   "metadata": {},
   "outputs": [],
   "source": [
    "sns.pairplot(df[['bpm', 'nrgy', 'dnce']],\n",
    "            plot_kws={'color':'black'},   # make changes in non diagonal, kws stand for key words argument\n",
    "            diag_kws = {'color': 'red'});  # make changes in diagonal"
   ]
  },
  {
   "cell_type": "code",
   "execution_count": null,
   "id": "2197d431",
   "metadata": {},
   "outputs": [],
   "source": [
    "#9)Facet Grid\n",
    "#Facetgrid maps a dataset onto multiple axes arrayed in a grid of rows and columns that correspond to levels of variables in the dataset. The plots it produces are often called “lattice”, “trellis”, or “small-multiple” graphics"
   ]
  },
  {
   "cell_type": "code",
   "execution_count": null,
   "id": "e3f1840e",
   "metadata": {},
   "outputs": [],
   "source": [
    "# facet grid for double  variable\n",
    "g = sns.FacetGrid(df, \n",
    "                  sharey = False,        # setting up y axis \n",
    "                  ylim = (20,100),       # giving the y limit\n",
    "                  col = 'artist type')    # spciefy the category\n",
    "g.map_dataframe(sns.scatterplot,              # spciefy the type of grpah\n",
    "                 x = 'pop', y = 'dnce',\n",
    "                color = 'forestgreen' , alpha = 0.7);              # numerical varible\n",
    "\n",
    "g.set_axis_labels('popularity', 'danceability');"
   ]
  },
  {
   "cell_type": "code",
   "execution_count": null,
   "id": "5e3d5419",
   "metadata": {},
   "outputs": [],
   "source": [
    "#\n",
    "#10)Strip Plot\n",
    "#A strip plot is very simple to understand. It is basically a scatter plot that differentiates different categories. So, all the data that corresponds to each category is shown as a scatter plot, and all the observations and collected data that are visualized are shown, side-by-side on a single graph."
   ]
  },
  {
   "cell_type": "code",
   "execution_count": null,
   "id": "60a6a52f",
   "metadata": {},
   "outputs": [],
   "source": [
    "from ipywidgets import interactive    # make interactive graph and we can do with any grpah\n",
    "\n",
    "def jitter_widget(jitter=0.1, linewidth = 0.3):\n",
    "    plt.figure(figsize = (12,6))\n",
    "\n",
    "    sns.stripplot(y = df['artist type'], x = df['val'], \n",
    "                  linewidth = linewidth,             \n",
    "                  jitter=jitter)                    #  show the overlap"
   ]
  },
  {
   "cell_type": "code",
   "execution_count": null,
   "id": "48c68cb7",
   "metadata": {},
   "outputs": [],
   "source": [
    "interactive(jitter_widget, jitter=(0, 0.65, 0.05), linewidth = (0,1, 0.05))"
   ]
  },
  {
   "cell_type": "code",
   "execution_count": null,
   "id": "f22211cb",
   "metadata": {},
   "outputs": [],
   "source": [
    "#11)Boxplot\n",
    "#Box plot give the quartile distribution of varaible, box plot is very useful to find the outlier"
   ]
  },
  {
   "cell_type": "code",
   "execution_count": null,
   "id": "f542c5ce",
   "metadata": {},
   "outputs": [],
   "source": [
    "plt.figure(figsize = (12,6))\n",
    "sns.boxplot(data = df,\n",
    "            x = 'artist type',   # categorical variable\n",
    "            y = 'pop',           # numerical variable\n",
    "            palette = 'Set3');"
   ]
  },
  {
   "cell_type": "code",
   "execution_count": null,
   "id": "7e74d462",
   "metadata": {},
   "outputs": [],
   "source": [
    "#12)Bar plot\n",
    "#A bar plot represents an estimate of central tendency for a numeric variable with the height of each rectangle and provides some indication of the uncertainty around that estimate using error bars.\n"
   ]
  },
  {
   "cell_type": "code",
   "execution_count": null,
   "id": "c46be164",
   "metadata": {},
   "outputs": [],
   "source": [
    "sns.barplot(data = df,\n",
    "            x = 'artist type',\n",
    "            y = 'nrgy')"
   ]
  },
  {
   "cell_type": "code",
   "execution_count": null,
   "id": "49b0c925",
   "metadata": {},
   "outputs": [],
   "source": [
    "#Which songs has the most BPM, energia\n",
    "df['bpm'].sort_values(ascending=False)"
   ]
  },
  {
   "cell_type": "code",
   "execution_count": null,
   "id": "c2c760a2",
   "metadata": {},
   "outputs": [],
   "source": [
    "df[df['bpm'] == 206]"
   ]
  },
  {
   "cell_type": "code",
   "execution_count": null,
   "id": "0a1752ee",
   "metadata": {},
   "outputs": [],
   "source": [
    "df.iloc[[70,312]]"
   ]
  },
  {
   "cell_type": "code",
   "execution_count": null,
   "id": "fe95589d",
   "metadata": {},
   "outputs": [],
   "source": []
  }
 ],
 "metadata": {
  "kernelspec": {
   "display_name": "Python 3 (ipykernel)",
   "language": "python",
   "name": "python3"
  },
  "language_info": {
   "codemirror_mode": {
    "name": "ipython",
    "version": 3
   },
   "file_extension": ".py",
   "mimetype": "text/x-python",
   "name": "python",
   "nbconvert_exporter": "python",
   "pygments_lexer": "ipython3",
   "version": "3.10.6"
  }
 },
 "nbformat": 4,
 "nbformat_minor": 5
}
